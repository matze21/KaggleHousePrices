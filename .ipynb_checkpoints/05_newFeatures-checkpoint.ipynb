{
 "cells": [
  {
   "cell_type": "code",
   "execution_count": null,
   "id": "9617f8e4",
   "metadata": {},
   "outputs": [],
   "source": [
    "import pandas as pd\n",
    "import seaborn as sn\n",
    "import matplotlib.pyplot as plt\n",
    "from sklearn.preprocessing import LabelEncoder\n",
    "import numpy as np\n",
    "import pylab as pl\n",
    "%matplotlib inline"
   ]
  },
  {
   "cell_type": "code",
   "execution_count": null,
   "id": "7f25689c",
   "metadata": {},
   "outputs": [],
   "source": [
    "trainingData = pd.read_csv(\"train.csv\")\n",
    "\n",
    "X_train = trainingData.drop(\"SalePrice\", axis = 1)\n",
    "X_train\n",
    "Y_train = trainingData.SalePrice\n",
    "\n",
    "def encodeEntireData(X_train):\n",
    "    cache = []\n",
    "    for feature in X_train.columns.values:\n",
    "        label_encoder =LabelEncoder()\n",
    "        X_train[feature]= label_encoder.fit_transform(X_train[feature])\n",
    "        cache.append(label_encoder)\n",
    "\n",
    "    return cache\n",
    "\n",
    "encodeEntireData(X_train)"
   ]
  },
  {
   "cell_type": "code",
   "execution_count": null,
   "id": "53d2d590",
   "metadata": {},
   "outputs": [],
   "source": [
    "trainingData.columns.values"
   ]
  },
  {
   "cell_type": "code",
   "execution_count": null,
   "id": "1a4e236f",
   "metadata": {},
   "outputs": [],
   "source": [
    "trainingData['YearsSinceRemodeled']  = trainingData['YrSold'] - trainingData['YearRemodAdd']\n",
    "trainingData['YearsOld']  = trainingData['YrSold'] - trainingData['YearBuilt']\n",
    "trainingData['YearsBeforeRemodel']  = trainingData['YearRemodAdd'] - trainingData['YearBuilt']\n",
    "trainingData['TotalSF']  = trainingData['TotalBsmtSF'] + trainingData['1stFlrSF'] + trainingData['2ndFlrSF'] + trainingData['1stFlrSF']\n",
    "trainingData['FinishedSF']  = (trainingData['LowQualFinSF'] + trainingData['BsmtUnfSF']) / trainingData['TotalSF']"
   ]
  },
  {
   "cell_type": "code",
   "execution_count": null,
   "id": "6b2d0a75",
   "metadata": {},
   "outputs": [],
   "source": [
    "corrMatrix = trainingData.corr(method='pearson')"
   ]
  },
  {
   "cell_type": "code",
   "execution_count": null,
   "id": "1ce74a65",
   "metadata": {},
   "outputs": [],
   "source": [
    "corrMatrix"
   ]
  },
  {
   "cell_type": "code",
   "execution_count": null,
   "id": "8b0c3361",
   "metadata": {},
   "outputs": [],
   "source": [
    "pd.plotting.scatter_matrix(trainingData[['YearsSinceRemodeled', 'YearsOld', 'YearsBeforeRemodel','SalePrice']])"
   ]
  }
 ],
 "metadata": {
  "kernelspec": {
   "display_name": "Python 3",
   "language": "python",
   "name": "python3"
  },
  "language_info": {
   "codemirror_mode": {
    "name": "ipython",
    "version": 3
   },
   "file_extension": ".py",
   "mimetype": "text/x-python",
   "name": "python",
   "nbconvert_exporter": "python",
   "pygments_lexer": "ipython3",
   "version": "3.8.8"
  },
  "latex_envs": {
   "LaTeX_envs_menu_present": true,
   "autoclose": false,
   "autocomplete": true,
   "bibliofile": "biblio.bib",
   "cite_by": "apalike",
   "current_citInitial": 1,
   "eqLabelWithNumbers": true,
   "eqNumInitial": 1,
   "hotkeys": {
    "equation": "Ctrl-E",
    "itemize": "Ctrl-I"
   },
   "labels_anchors": false,
   "latex_user_defs": false,
   "report_style_numbering": false,
   "user_envs_cfg": false
  }
 },
 "nbformat": 4,
 "nbformat_minor": 5
}
