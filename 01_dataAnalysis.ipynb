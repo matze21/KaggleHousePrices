{
 "cells": [
  {
   "cell_type": "code",
   "execution_count": null,
   "id": "3eef85e3",
   "metadata": {},
   "outputs": [],
   "source": [
    "import pandas as pd"
   ]
  },
  {
   "cell_type": "code",
   "execution_count": null,
   "id": "b679ca10",
   "metadata": {},
   "outputs": [],
   "source": [
    "trainingData = pd.read_csv(\"train.csv\")"
   ]
  },
  {
   "cell_type": "code",
   "execution_count": null,
   "id": "6f08b41b",
   "metadata": {},
   "outputs": [],
   "source": [
    "trainingData.columns.values\n",
    "#MSSubClass type of sell -> must be pretty important\n",
    "#OverallQual, OverallCond\n",
    "\n",
    "#\n",
    "\n",
    "#Lot Properties\n",
    "# LotFrontage = Länge Einfahrt (no encoding)\n",
    "# Lot area = Grundstücksgröße (no encoding)\n",
    "# lotShape\n",
    "# utilities = was verfügbar ist (wasser, strom, gas)\n",
    "\n",
    "\n",
    "# logConfig = wie viele drum rum sind\n",
    "#Condition1: Proximity to various conditions, could be similar to lotconfig!\n",
    "#Condition2: Proximity to various conditions (if more than one is present)\n",
    "\n",
    "\n",
    "# duplicates\n",
    "# street = paved or gravel\n",
    "# alley = same as street + \"no access\"\n",
    "\n",
    "# Land Contour = Flatness\n",
    "# landSlope\n",
    "\n",
    "#MSZoning = type of area\n",
    "# Neighborhood (should be very similar to zone)\n",
    "\n",
    "#BldType\n",
    "#HouseStyle\n",
    "\n",
    "#roofStyle\n",
    "#RoofMatl (material)\n",
    "\n",
    "#exterior1st & 2nd\n",
    "\n",
    "#masVnrType + MasVnrArea + ExterQual + ExterCond\n",
    "\n",
    "#foundation, BsmtQual (heightBasement), BsmtCod, BsmtExposure,\n",
    "#BsmFinType1+BsmtFin1 (finished square feet in basement)\n",
    "#BsmFinType2 + BsmtFinSF2 (rating type 2)\n",
    "#bsmtUnfSF (unfinished) + TotalBsmtSF (total square feet basement)\n",
    "\n",
    "#heating + Heating QC + CentralAir + Elektrical\n",
    "\n",
    "#\n",
    "\n",
    "#no encoding\n",
    "# LotFrontage = Länge Einfahrt (no encoding)\n",
    "# Lot area = Grundstücksgröße (no encoding)\n",
    "# yearBuilt\n",
    "#YearRemodAdd (renoviert)\n",
    "BsmtFinSF1: \n",
    "BsmtFinSF2: \n",
    "BsmtUnfSF: \n",
    "TotalBsmtSF: \n",
    "1stFlrSF: \n",
    "2ndFlrSF:\n",
    "LowQualFinSF:\n",
    "GrLivArea:\n",
    "BsmtFullBath: \n",
    "BsmtHalfBath: \n",
    "FullBath:\n",
    "HalfBath:\n",
    "Bedroom:\n",
    "KitchenAbvGr = #kitchens\n",
    "#         important\n",
    "\n",
    "\n"
   ]
  },
  {
   "cell_type": "code",
   "execution_count": null,
   "id": "fb0f97c1",
   "metadata": {},
   "outputs": [],
   "source": [
    "features_no_encoding = ['LotFrontage', 'LotArea', 'YearBuilt', 'YearRemodAdd', 'MasVnrArea', 'BsmtFinSF1', 'BsmtFinSF2', 'BsmtUnfSF', 'TotalBsmtSF','1stFlrSF', '2ndFlrSF', 'LowQualFinSF',\n",
    "       'GrLivArea', 'BsmtFullBath', 'BsmtHalfBath', 'FullBath',\n",
    "       'HalfBath', 'BedroomAbvGr', 'KitchenAbvGr','TotRmsAbvGrd', 'Fireplaces','GarageYrBlt', 'GarageCars',\n",
    "       'GarageArea','WoodDeckSF', 'OpenPorchSF', 'EnclosedPorch', '3SsnPorch',\n",
    "       'ScreenPorch', 'PoolArea','MiscVal', 'MoSold', 'YrSold']\n"
   ]
  }
 ],
 "metadata": {
  "kernelspec": {
   "display_name": "Python 3",
   "language": "python",
   "name": "python3"
  },
  "language_info": {
   "codemirror_mode": {
    "name": "ipython",
    "version": 3
   },
   "file_extension": ".py",
   "mimetype": "text/x-python",
   "name": "python",
   "nbconvert_exporter": "python",
   "pygments_lexer": "ipython3",
   "version": "3.8.8"
  },
  "latex_envs": {
   "LaTeX_envs_menu_present": true,
   "autoclose": false,
   "autocomplete": true,
   "bibliofile": "biblio.bib",
   "cite_by": "apalike",
   "current_citInitial": 1,
   "eqLabelWithNumbers": true,
   "eqNumInitial": 1,
   "hotkeys": {
    "equation": "Ctrl-E",
    "itemize": "Ctrl-I"
   },
   "labels_anchors": false,
   "latex_user_defs": false,
   "report_style_numbering": false,
   "user_envs_cfg": false
  }
 },
 "nbformat": 4,
 "nbformat_minor": 5
}
