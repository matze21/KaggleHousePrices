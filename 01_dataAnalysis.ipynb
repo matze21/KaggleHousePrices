{
 "cells": [
  {
   "cell_type": "code",
   "execution_count": null,
   "id": "3eef85e3",
   "metadata": {},
   "outputs": [],
   "source": [
    "import pandas as pd\n",
    "import seaborn as sn\n",
    "import matplotlib.pyplot as plt\n",
    "from sklearn.preprocessing import LabelEncoder\n",
    "import numpy as np\n",
    "%matplotlib inline\n",
    "\n",
    "sn.set_style('darkgrid')\n",
    "sn.set_palette('muted')\n",
    "sn.set_context(\"notebook\", font_scale=1.5,\n",
    "                rc={\"lines.linewidth\": 2.5})"
   ]
  },
  {
   "cell_type": "code",
   "execution_count": null,
   "id": "b679ca10",
   "metadata": {},
   "outputs": [],
   "source": [
    "trainingData = pd.read_csv(\"train.csv\")"
   ]
  },
  {
   "cell_type": "code",
   "execution_count": null,
   "id": "6f08b41b",
   "metadata": {},
   "outputs": [],
   "source": [
    "trainingData.columns.values\n",
    "#MSSubClass type of sell -> must be pretty important\n",
    "#OverallQual, OverallCond\n",
    "\n",
    "#\n",
    "\n",
    "#Lot Properties\n",
    "# LotFrontage = Länge Einfahrt (no encoding)\n",
    "# Lot area = Grundstücksgröße (no encoding)\n",
    "# lotShape\n",
    "# utilities = was verfügbar ist (wasser, strom, gas)\n",
    "\n",
    "\n",
    "# logConfig = wie viele drum rum sind\n",
    "#Condition1: Proximity to various conditions, could be similar to lotconfig!\n",
    "#Condition2: Proximity to various conditions (if more than one is present)\n",
    "\n",
    "\n",
    "# duplicates\n",
    "# street = paved or gravel\n",
    "# alley = same as street + \"no access\"\n",
    "\n",
    "# Land Contour = Flatness\n",
    "# landSlope\n",
    "\n",
    "#MSZoning = type of area\n",
    "# Neighborhood (should be very similar to zone)\n",
    "\n",
    "#BldType\n",
    "#HouseStyle\n",
    "\n",
    "#roofStyle\n",
    "#RoofMatl (material)\n",
    "\n",
    "#exterior1st & 2nd\n",
    "\n",
    "#masVnrType + MasVnrArea + ExterQual + ExterCond\n",
    "\n",
    "#foundation, BsmtQual (heightBasement), BsmtCod, BsmtExposure,\n",
    "#BsmFinType1+BsmtFin1 (finished square feet in basement)\n",
    "#BsmFinType2 + BsmtFinSF2 (rating type 2)\n",
    "#bsmtUnfSF (unfinished) + TotalBsmtSF (total square feet basement)\n",
    "\n",
    "#heating + Heating QC + CentralAir + Elektrical\n",
    "\n",
    "#\n",
    "\n",
    "#no encoding\n",
    "# LotFrontage = Länge Einfahrt (no encoding)\n",
    "# Lot area = Grundstücksgröße (no encoding)\n",
    "# yearBuilt\n",
    "#YearRemodAdd (renoviert)\n",
    "BsmtFinSF1: \n",
    "BsmtFinSF2: \n",
    "BsmtUnfSF: \n",
    "TotalBsmtSF: \n",
    "1stFlrSF: \n",
    "2ndFlrSF:\n",
    "LowQualFinSF:\n",
    "GrLivArea:\n",
    "BsmtFullBath: \n",
    "BsmtHalfBath: \n",
    "FullBath:\n",
    "HalfBath:\n",
    "Bedroom:\n",
    "KitchenAbvGr = #kitchens\n",
    "#         important\n",
    "\n",
    "\n"
   ]
  },
  {
   "cell_type": "code",
   "execution_count": null,
   "id": "fb0f97c1",
   "metadata": {},
   "outputs": [],
   "source": [
    "features_no_encoding = ['LotFrontage', 'LotArea', 'YearBuilt', 'YearRemodAdd', 'MasVnrArea', 'BsmtFinSF1', 'BsmtFinSF2', 'BsmtUnfSF', 'TotalBsmtSF','1stFlrSF', '2ndFlrSF', 'LowQualFinSF',\n",
    "       'GrLivArea', 'BsmtFullBath', 'BsmtHalfBath', 'FullBath',\n",
    "       'HalfBath', 'BedroomAbvGr', 'KitchenAbvGr','TotRmsAbvGrd', 'Fireplaces','GarageYrBlt', 'GarageCars',\n",
    "       'GarageArea','WoodDeckSF', 'OpenPorchSF', 'EnclosedPorch', '3SsnPorch',\n",
    "       'ScreenPorch', 'PoolArea','MiscVal', 'MoSold', 'YrSold']\n"
   ]
  },
  {
   "cell_type": "code",
   "execution_count": null,
   "id": "a2839e0a",
   "metadata": {},
   "outputs": [],
   "source": [
    "def encodeEntireData(X_train):\n",
    "    cache = []\n",
    "    for feature in X_train.columns.values:\n",
    "        label_encoder =LabelEncoder()\n",
    "        X_train[feature]= label_encoder.fit_transform(X_train[feature])\n",
    "        cache.append(label_encoder)\n",
    "\n",
    "    return cache\n",
    "\n",
    "trainingData2 = trainingData\n",
    "encodeEntireData(trainingData2)\n",
    "\n",
    "corrMatrix = trainingData2.corr(method='pearson')\n",
    "print (corrMatrix)"
   ]
  },
  {
   "cell_type": "code",
   "execution_count": null,
   "id": "650f66c7",
   "metadata": {},
   "outputs": [],
   "source": [
    "pd.set_option(\"display.max_rows\", None)\n",
    "#display(corrMatrix['SalePrice'])\n",
    "importantFeatures = []\n",
    "for i in range(len(corrMatrix['SalePrice'])):\n",
    "               if abs(corrMatrix['SalePrice'][i]) > 0.1 and corrMatrix['SalePrice'][i] != 1.0:\n",
    "                   importantFeatures.append(trainingData.columns.values[i])\n",
    "                   print(trainingData.columns.values[i], corrMatrix['SalePrice'][i])\n",
    "print(importantFeatures)"
   ]
  },
  {
   "cell_type": "code",
   "execution_count": null,
   "id": "771ead9e",
   "metadata": {},
   "outputs": [],
   "source": [
    "sn.heatmap(corrMatrix, annot=True)\n",
    "plt.show()"
   ]
  },
  {
   "cell_type": "code",
   "execution_count": null,
   "id": "3b63395c",
   "metadata": {},
   "outputs": [],
   "source": [
    "corrMatrix['MSZoning'] ['MSZoning']"
   ]
  },
  {
   "cell_type": "code",
   "execution_count": null,
   "id": "2579f9f6",
   "metadata": {},
   "outputs": [],
   "source": [
    "def findCorrelationPairs(corrMat, features):\n",
    "    n = corrMat.shape[0]\n",
    "    cache = []\n",
    "    for i in range(n): #row\n",
    "        j = i\n",
    "        while j < n:\n",
    "            #print(i,j)\n",
    "            corr = corrMat[features[i]][features[j]]\n",
    "            #print(abs(corr))\n",
    "            if abs(corr) > 0.2 and corr != 1.0:\n",
    "                pair = features[i] + ' , ' + features[j]\n",
    "                print(pair, corr)\n",
    "                cache.append(pair)\n",
    "            j=j+1\n",
    "    return cache\n",
    "        \n",
    "cache = findCorrelationPairs(corrMatrix, trainingData.columns.values)\n",
    "#print(cache)"
   ]
  },
  {
   "cell_type": "code",
   "execution_count": null,
   "id": "7a625730",
   "metadata": {},
   "outputs": [],
   "source": [
    "import pylab as pl\n",
    "for i in trainingData.columns.values:\n",
    "    fig, (ax1, ax2, ax3)=plt.subplots(1,3)\n",
    "    #print(i)\n",
    "    ax1.set_title(i)\n",
    "    ax1.hist(trainingData2[i], bins = np.linspace(min(trainingData2[i]), max(trainingData2[i]), 100))\n",
    "    #trainingData[i].hist(bins=100)\n",
    "    #pl.suptitle(i)\n",
    "    \n",
    "    idx = trainingData2['SalePrice'].argsort() \n",
    "    plotData = trainingData2[i][idx]\n",
    "    plotDatay = trainingData2['SalePrice'][idx]\n",
    "    ax2.plot(plotDatay, plotData)\n",
    "    ax2.set_ylabel(i)\n",
    "    ax2.set_xlabel('SalePrice ')\n",
    "    ax2.set_title(str(corrMatrix[i]['SalePrice']))\n",
    "    \n",
    "    ax3.scatter(trainingData2['SalePrice'], trainingData2[i])\n",
    "    "
   ]
  },
  {
   "cell_type": "code",
   "execution_count": null,
   "id": "e449f2f3",
   "metadata": {},
   "outputs": [],
   "source": [
    "pd.plotting.scatter_matrix(trainingData2)"
   ]
  },
  {
   "cell_type": "code",
   "execution_count": null,
   "id": "5f5a5d38",
   "metadata": {},
   "outputs": [],
   "source": []
  }
 ],
 "metadata": {
  "kernelspec": {
   "display_name": "Python 3",
   "language": "python",
   "name": "python3"
  },
  "language_info": {
   "codemirror_mode": {
    "name": "ipython",
    "version": 3
   },
   "file_extension": ".py",
   "mimetype": "text/x-python",
   "name": "python",
   "nbconvert_exporter": "python",
   "pygments_lexer": "ipython3",
   "version": "3.8.8"
  },
  "latex_envs": {
   "LaTeX_envs_menu_present": true,
   "autoclose": false,
   "autocomplete": true,
   "bibliofile": "biblio.bib",
   "cite_by": "apalike",
   "current_citInitial": 1,
   "eqLabelWithNumbers": true,
   "eqNumInitial": 1,
   "hotkeys": {
    "equation": "Ctrl-E",
    "itemize": "Ctrl-I"
   },
   "labels_anchors": false,
   "latex_user_defs": false,
   "report_style_numbering": false,
   "user_envs_cfg": false
  }
 },
 "nbformat": 4,
 "nbformat_minor": 5
}
