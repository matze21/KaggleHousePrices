{
 "cells": [
  {
   "cell_type": "code",
   "execution_count": null,
   "id": "24fd22be",
   "metadata": {},
   "outputs": [],
   "source": [
    "import pandas as pd\n",
    "import seaborn as sn\n",
    "import matplotlib.pyplot as plt\n",
    "from sklearn.preprocessing import LabelEncoder\n",
    "from sklearn.model_selection import train_test_split\n",
    "from sklearn.ensemble import RandomForestRegressor\n",
    "import numpy as np\n",
    "import pylab as pl\n",
    "%matplotlib inline"
   ]
  },
  {
   "cell_type": "code",
   "execution_count": null,
   "id": "8cebf1bd",
   "metadata": {},
   "outputs": [],
   "source": [
    "trainingData = pd.read_csv(\"train.csv\")\n",
    "\n",
    "X_train = trainingData.drop(\"SalePrice\", axis = 1)\n",
    "X_train\n",
    "Y_train = trainingData.SalePrice\n",
    "\n",
    "def encodeEntireData(X_train):\n",
    "    cache = []\n",
    "    for feature in X_train.columns.values:\n",
    "        label_encoder =LabelEncoder()\n",
    "        X_train[feature]= label_encoder.fit_transform(X_train[feature])\n",
    "        cache.append(label_encoder)\n",
    "\n",
    "    return cache\n",
    "\n",
    "encodeEntireData(X_train)"
   ]
  },
  {
   "cell_type": "code",
   "execution_count": null,
   "id": "def5da68",
   "metadata": {},
   "outputs": [],
   "source": [
    "trainingData.columns.values"
   ]
  },
  {
   "cell_type": "code",
   "execution_count": null,
   "id": "ff9ff680",
   "metadata": {},
   "outputs": [],
   "source": [
    "trainingData['YearsSinceRemodeled']  = trainingData['YrSold'] - trainingData['YearRemodAdd']\n",
    "trainingData['YearsOld']  = trainingData['YrSold'] - trainingData['YearBuilt']\n",
    "trainingData['YearsBeforeRemodel']  = trainingData['YearRemodAdd'] - trainingData['YearBuilt']\n",
    "trainingData['YearsBeforeGarageBuild']  = trainingData['GarageYrBlt'] - trainingData['YearBuilt']\n",
    "trainingData['TotalSF']  = trainingData['TotalBsmtSF'] + trainingData['1stFlrSF'] + trainingData['2ndFlrSF'] + trainingData['1stFlrSF']\n",
    "trainingData['UnfinishedSF']  = (trainingData['LowQualFinSF'] + trainingData['BsmtUnfSF']) / trainingData['TotalSF']\n",
    "trainingData['UnfinishedSFBasement']  = (trainingData['BsmtUnfSF']) / trainingData['TotalBsmtSF']\n",
    "trainingData['FinishedSFBasement']  = 1 - (trainingData['BsmtUnfSF']) / trainingData['TotalBsmtSF']\n",
    "trainingData['TotalOutsideSF']  = trainingData['WoodDeckSF'] + trainingData['OpenPorchSF'] + trainingData['EnclosedPorch'] + trainingData['3SsnPorch']+ trainingData['ScreenPorch'] + trainingData['PoolArea']\n",
    "trainingData['PropertySF']  = trainingData['TotalSF'] + trainingData['TotalOutsideSF'] + trainingData['MasVnrArea'] + trainingData['LotFrontage']\n",
    "trainingData['grassArea'] = trainingData['PropertySF']  - trainingData['LotArea'] \n",
    "trainingData['bathrooms'] = trainingData['BsmtFullBath']  + trainingData['BsmtHalfBath'] +trainingData['FullBath']  + trainingData['HalfBath'] \n",
    "trainingData['numberBedAndBath'] = trainingData['BedroomAbvGr']  + trainingData['FullBath'] \n"
   ]
  },
  {
   "cell_type": "code",
   "execution_count": null,
   "id": "d99532eb",
   "metadata": {},
   "outputs": [],
   "source": [
    "corrMatrix = trainingData.corr(method='pearson')"
   ]
  },
  {
   "cell_type": "code",
   "execution_count": null,
   "id": "645e3be3",
   "metadata": {},
   "outputs": [],
   "source": [
    "corrMatrix['SalePrice']"
   ]
  },
  {
   "cell_type": "code",
   "execution_count": null,
   "id": "6f23a87e",
   "metadata": {},
   "outputs": [],
   "source": [
    "pd.plotting.scatter_matrix(trainingData[['FinishedSFBasement', 'TotalSF', 'UnfinishedSFBasement','SalePrice']])"
   ]
  },
  {
   "cell_type": "code",
   "execution_count": null,
   "id": "49b37006",
   "metadata": {},
   "outputs": [],
   "source": [
    "pd.plotting.scatter_matrix(trainingData[['YearsSinceRemodeled', 'YearsOld', 'YearsBeforeRemodel','SalePrice']])"
   ]
  },
  {
   "cell_type": "code",
   "execution_count": null,
   "id": "e2b59793",
   "metadata": {},
   "outputs": [],
   "source": [
    "X_train = trainingData.drop(\"SalePrice\", axis = 1)\n",
    "encodeEntireData(X_train)\n",
    "\n",
    "corrMatrix2 = X_train.corr(method='pearson')"
   ]
  },
  {
   "cell_type": "code",
   "execution_count": null,
   "id": "922b5476",
   "metadata": {},
   "outputs": [],
   "source": [
    "pd.set_option('display.max_rows', None)\n",
    "corrMatrix2['SalePrice']"
   ]
  },
  {
   "cell_type": "code",
   "execution_count": null,
   "id": "167f2b55",
   "metadata": {},
   "outputs": [],
   "source": [
    "from xgboost import XGBRegressor\n",
    "X_train2, X_test, Y_train2, Y_test = train_test_split(X_train, Y_train, test_size=0.33, random_state=42)\n",
    "\n",
    "model=XGBRegressor(n_estimators = 1000)\n",
    "model.fit(X_train2, Y_train2, eval_set=[(X_test, Y_test)], early_stopping_rounds = 10)"
   ]
  },
  {
   "cell_type": "code",
   "execution_count": null,
   "id": "e47c38e5",
   "metadata": {},
   "outputs": [],
   "source": [
    "Y_pred = model.predict(X_test)\n",
    "np.sum(abs(np.divide(Y_test - Y_pred, Y_test)))/len(Y_test)"
   ]
  },
  {
   "cell_type": "code",
   "execution_count": null,
   "id": "2e407efa",
   "metadata": {},
   "outputs": [],
   "source": [
    "clf2 = RandomForestRegressor(n_estimators = 1000)\n",
    "clf2.fit(X_train2, Y_train2)\n",
    "\n",
    "print(clf2.score(X_train2,Y_train2))\n",
    "print(clf2.score(X_test,Y_test))\n",
    "y = clf2.feature_importances_\n",
    "x = np.linspace(0, len(y)-1, len(y))\n",
    "fig=plt.figure()\n",
    "plt.plot(x,y)"
   ]
  },
  {
   "cell_type": "code",
   "execution_count": null,
   "id": "531d0382",
   "metadata": {},
   "outputs": [],
   "source": [
    "Y_pred = clf2.predict(X_test)\n",
    "np.sum(abs(np.divide(Y_test - Y_pred, Y_test)))/len(Y_test)"
   ]
  },
  {
   "cell_type": "code",
   "execution_count": null,
   "id": "ea233590",
   "metadata": {},
   "outputs": [],
   "source": [
    "data = np.array([X_train.columns.values, y]).T\n",
    "sortedArr = data[data[:,1].argsort()]"
   ]
  },
  {
   "cell_type": "code",
   "execution_count": null,
   "id": "044d551a",
   "metadata": {},
   "outputs": [],
   "source": [
    "sortedArr[0:16,0]"
   ]
  }
 ],
 "metadata": {
  "kernelspec": {
   "display_name": "Python 3",
   "language": "python",
   "name": "python3"
  },
  "language_info": {
   "codemirror_mode": {
    "name": "ipython",
    "version": 3
   },
   "file_extension": ".py",
   "mimetype": "text/x-python",
   "name": "python",
   "nbconvert_exporter": "python",
   "pygments_lexer": "ipython3",
   "version": "3.8.8"
  },
  "latex_envs": {
   "LaTeX_envs_menu_present": true,
   "autoclose": false,
   "autocomplete": true,
   "bibliofile": "biblio.bib",
   "cite_by": "apalike",
   "current_citInitial": 1,
   "eqLabelWithNumbers": true,
   "eqNumInitial": 1,
   "hotkeys": {
    "equation": "Ctrl-E",
    "itemize": "Ctrl-I"
   },
   "labels_anchors": false,
   "latex_user_defs": false,
   "report_style_numbering": false,
   "user_envs_cfg": false
  }
 },
 "nbformat": 4,
 "nbformat_minor": 5
}
