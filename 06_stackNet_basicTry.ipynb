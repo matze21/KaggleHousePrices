{
 "cells": [
  {
   "cell_type": "code",
   "execution_count": null,
   "id": "76baf49c",
   "metadata": {},
   "outputs": [],
   "source": [
    "from sklearn.preprocessing import StandardScaler\n",
    "from sklearn.ensemble import StackingRegressor\n",
    "from sklearn.svm import LinearSVR\n",
    "from sklearn.pipeline import make_pipeline\n",
    "from sklearn.neural_network import MLPRegressor\n",
    "from sklearn.preprocessing import LabelEncoder\n",
    "from sklearn.model_selection import train_test_split\n",
    "from sklearn.ensemble import RandomForestRegressor\n",
    "from xgboost import XGBRegressor\n",
    "from sklearn.linear_model import LogisticRegression\n",
    "from sklearn.cluster import KMeans\n",
    "import pandas as pd"
   ]
  },
  {
   "cell_type": "code",
   "execution_count": null,
   "id": "d8ab1abb",
   "metadata": {},
   "outputs": [],
   "source": [
    "trainingData = pd.read_csv(\"train.csv\")\n",
    "\n",
    "X_train = trainingData.drop(\"SalePrice\", axis = 1)\n",
    "X_train\n",
    "Y_train = trainingData.SalePrice\n",
    "\n",
    "def encodeEntireData(X_train):\n",
    "    cache = []\n",
    "    for feature in X_train.columns.values:\n",
    "        label_encoder =LabelEncoder()\n",
    "        X_train[feature]= label_encoder.fit_transform(X_train[feature])\n",
    "        cache.append(label_encoder)\n",
    "\n",
    "    return cache\n",
    "\n",
    "encodeEntireData(X_train)\n",
    "\n",
    "X_train2, X_test, Y_train2, Y_test = train_test_split(X_train, Y_train, test_size=0.1, random_state=42)"
   ]
  },
  {
   "cell_type": "code",
   "execution_count": null,
   "id": "0c22f857",
   "metadata": {},
   "outputs": [],
   "source": [
    "estimators = [#('rf1', RandomForestRegressor(n_estimators=10, random_state=42)),\n",
    "              #('rf2', RandomForestRegressor(n_estimators=100, random_state=42)),\n",
    "              #('rf3', RandomForestRegressor(n_estimators=19, random_state=42)),\n",
    "              #('rf4', RandomForestRegressor(n_estimators=4, random_state=42)),\n",
    "              ('rf5', RandomForestRegressor(n_estimators=300, max_leaf_nodes = 20, random_state=42)),\n",
    "              ('rf6', RandomForestRegressor(n_estimators=300, max_leaf_nodes = 25, bootstrap=False, random_state=42)),\n",
    "              ('rf7', RandomForestRegressor(n_estimators=100, max_leaf_nodes = 20, random_state=42)),\n",
    "              #('xgboost1', XGBRegressor(learning_rate=0.1, max_depth=10, random_state=42)),\n",
    "              #('xgboost2', XGBRegressor(learning_rate=0.1, max_depth=8, random_state=42)),\n",
    "              #('xgboost3', XGBRegressor(n_estimators=100, learning_rate=0.01, max_depth=6, random_state=42)),\n",
    "    \n",
    "              ('xgboost4', XGBRegressor(n_estimators=100, learning_rate=0.1, max_depth=5, random_state=42)),\n",
    "    \n",
    "              #('svr', LinearSVR(random_state=42)),\n",
    "              #('svr', make_pipeline(StandardScaler(),LinearSVR(random_state=42))),\n",
    "              ('nn1', MLPRegressor(hidden_layer_sizes = (1000,500,100,),random_state=42, max_iter=1000, early_stopping=True)),\n",
    "              #('nn2', MLPRegressor(hidden_layer_sizes = (100,),random_state=42, max_iter=500, early_stopping=True)),\n",
    "              #('nn3', MLPRegressor(hidden_layer_sizes = (10, 10,),random_state=42, max_iter=5000, early_stopping=True)),\n",
    "              #('logReg', LogisticRegression()),\n",
    "            # ('kmeans', make_pipeline(StandardScaler(),KMeans(random_state=42))),\n",
    "              \n",
    "             ]\n",
    "\n",
    "clf = StackingRegressor(\n",
    "     estimators=estimators#, final_estimator = LogisticRegression(random_state=42)\n",
    "    #final_estimator=RandomForestRegressor(n_estimators=100, random_state=42)\n",
    " )"
   ]
  },
  {
   "cell_type": "code",
   "execution_count": null,
   "id": "b726af56",
   "metadata": {},
   "outputs": [],
   "source": [
    "clf.fit(X_train2, Y_train2)\n",
    "print(clf.score(X_train2,Y_train2))\n",
    "print(clf.score(X_test,Y_test))"
   ]
  },
  {
   "cell_type": "code",
   "execution_count": null,
   "id": "e11b3378",
   "metadata": {},
   "outputs": [],
   "source": [
    "from sklearn.linear_model import LogisticRegression\n",
    "logReg = LogisticRegression(random_state=0).fit(X_train2, Y_train2)\n",
    "print(logReg.score(X_train2,Y_train2))\n",
    "print(logReg.score(X_test,Y_test))"
   ]
  },
  {
   "cell_type": "markdown",
   "id": "65fd138c",
   "metadata": {},
   "source": [
    "## with new features\n"
   ]
  },
  {
   "cell_type": "code",
   "execution_count": null,
   "id": "577eade5",
   "metadata": {},
   "outputs": [],
   "source": [
    "trainingData['YearsSinceRemodeled']  = trainingData['YrSold'] - trainingData['YearRemodAdd']\n",
    "trainingData['YearsOld']  = trainingData['YrSold'] - trainingData['YearBuilt']\n",
    "trainingData['YearsBeforeRemodel']  = trainingData['YearRemodAdd'] - trainingData['YearBuilt']\n",
    "trainingData['YearsBeforeGarageBuild']  = trainingData['GarageYrBlt'] - trainingData['YearBuilt']\n",
    "trainingData['TotalSF']  = trainingData['TotalBsmtSF'] + trainingData['1stFlrSF'] + trainingData['2ndFlrSF'] + trainingData['1stFlrSF']\n",
    "trainingData['UnfinishedSF']  = (trainingData['LowQualFinSF'] + trainingData['BsmtUnfSF']) / trainingData['TotalSF']\n",
    "trainingData['UnfinishedSFBasement']  = (trainingData['BsmtUnfSF']) / trainingData['TotalBsmtSF']\n",
    "trainingData['FinishedSFBasement']  = 1 - (trainingData['BsmtUnfSF']) / trainingData['TotalBsmtSF']\n",
    "trainingData['TotalOutsideSF']  = trainingData['WoodDeckSF'] + trainingData['OpenPorchSF'] + trainingData['EnclosedPorch'] + trainingData['3SsnPorch']+ trainingData['ScreenPorch'] + trainingData['PoolArea']\n",
    "trainingData['PropertySF']  = trainingData['TotalSF'] + trainingData['TotalOutsideSF'] + trainingData['MasVnrArea'] + trainingData['LotFrontage']\n",
    "trainingData['grassArea'] = trainingData['PropertySF']  - trainingData['LotArea'] \n",
    "trainingData['bathrooms'] = trainingData['BsmtFullBath']  + trainingData['BsmtHalfBath'] +trainingData['FullBath']  + trainingData['HalfBath'] \n",
    "trainingData['numberBedAndBath'] = trainingData['BedroomAbvGr']  + trainingData['FullBath'] \n"
   ]
  },
  {
   "cell_type": "code",
   "execution_count": null,
   "id": "4a0c93e6",
   "metadata": {},
   "outputs": [],
   "source": [
    "X_trainNew = trainingData.drop(\"SalePrice\", axis = 1)\n",
    "Y_trainNew = trainingData.SalePrice\n",
    "\n",
    "encodeEntireData(X_trainNew)\n",
    "\n",
    "X_train2New, X_testNew, Y_train2New, Y_testNew = train_test_split(X_trainNew, Y_trainNew, test_size=0.1, random_state=42)"
   ]
  },
  {
   "cell_type": "code",
   "execution_count": null,
   "id": "eeae41eb",
   "metadata": {},
   "outputs": [],
   "source": [
    "clf2 = StackingRegressor(\n",
    "     estimators=estimators, final_estimator=RandomForestRegressor(n_estimators=10, random_state=42)\n",
    " )\n",
    "\n",
    "clf.fit(X_train2New, Y_train2New)\n",
    "print(clf.score(X_train2New,Y_train2New))\n",
    "print(clf.score(X_testNew,Y_testNew))"
   ]
  },
  {
   "cell_type": "code",
   "execution_count": null,
   "id": "97fe1228",
   "metadata": {},
   "outputs": [],
   "source": []
  }
 ],
 "metadata": {
  "kernelspec": {
   "display_name": "Python 3",
   "language": "python",
   "name": "python3"
  },
  "language_info": {
   "codemirror_mode": {
    "name": "ipython",
    "version": 3
   },
   "file_extension": ".py",
   "mimetype": "text/x-python",
   "name": "python",
   "nbconvert_exporter": "python",
   "pygments_lexer": "ipython3",
   "version": "3.8.8"
  },
  "latex_envs": {
   "LaTeX_envs_menu_present": true,
   "autoclose": false,
   "autocomplete": true,
   "bibliofile": "biblio.bib",
   "cite_by": "apalike",
   "current_citInitial": 1,
   "eqLabelWithNumbers": true,
   "eqNumInitial": 1,
   "hotkeys": {
    "equation": "Ctrl-E",
    "itemize": "Ctrl-I"
   },
   "labels_anchors": false,
   "latex_user_defs": false,
   "report_style_numbering": false,
   "user_envs_cfg": false
  }
 },
 "nbformat": 4,
 "nbformat_minor": 5
}
