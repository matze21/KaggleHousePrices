{
 "cells": [
  {
   "cell_type": "code",
   "execution_count": null,
   "id": "4db0a247",
   "metadata": {},
   "outputs": [],
   "source": [
    "import numpy as np\n",
    "from matplotlib import pyplot as plt\n",
    "import pandas as pd\n",
    "from sklearn.ensemble import RandomForestClassifier\n",
    "from sklearn.model_selection import train_test_split\n",
    "from sklearn.preprocessing import LabelEncoder\n",
    "from sklearn.preprocessing import normalize"
   ]
  },
  {
   "cell_type": "code",
   "execution_count": null,
   "id": "977a6318",
   "metadata": {},
   "outputs": [],
   "source": [
    "trainingData = pd.read_csv(\"train.csv\")\n",
    "\n",
    "X_train = trainingData.drop(\"SalePrice\", axis = 1)\n",
    "X_train\n",
    "Y_train = trainingData.SalePrice\n",
    "\n",
    "def encodeEntireData(X_train):\n",
    "    cache = []\n",
    "    for feature in X_train.columns.values:\n",
    "        label_encoder =LabelEncoder()\n",
    "        X_train[feature]= label_encoder.fit_transform(X_train[feature])\n",
    "        cache.append(label_encoder)\n",
    "\n",
    "    return cache\n",
    "\n",
    "encodeEntireData(X_train)\n",
    "#X_train = normalize(X_train, norm='l2', copy=False)\n",
    "print(X_train)"
   ]
  },
  {
   "cell_type": "code",
   "execution_count": null,
   "id": "906366cc",
   "metadata": {},
   "outputs": [],
   "source": [
    "corrMatrix = trainingData.corr(method='pearson')"
   ]
  },
  {
   "cell_type": "code",
   "execution_count": null,
   "id": "3be96bc0",
   "metadata": {},
   "outputs": [],
   "source": [
    "importantFeatures = []\n",
    "for i in range(len(corrMatrix['SalePrice'])):\n",
    "               if abs(corrMatrix['SalePrice'][i]) > 0.1 and corrMatrix['SalePrice'][i] != 1.0:\n",
    "                   importantFeatures.append(trainingData.columns.values[i])\n",
    "                   print(trainingData.columns.values[i], corrMatrix['SalePrice'][i])\n",
    "print(importantFeatures)"
   ]
  },
  {
   "cell_type": "code",
   "execution_count": null,
   "id": "0a89f5e2",
   "metadata": {},
   "outputs": [],
   "source": [
    "X_train_importFeatures = X_train[importantFeatures]\n",
    "#print(X_train_importFeatures)"
   ]
  },
  {
   "cell_type": "code",
   "execution_count": null,
   "id": "b3836cae",
   "metadata": {},
   "outputs": [],
   "source": [
    "clf = RandomForestClassifier()\n",
    "clf.fit(X_train_importFeatures, Y_train)\n",
    "\n",
    "print(clf.score(X_train_importFeatures,Y_train))\n",
    "\n",
    "X_train2, X_test, Y_train2, Y_test = train_test_split(X_train_importFeatures, Y_train, test_size=0.33, random_state=42)\n",
    "\n",
    "clf2 = RandomForestClassifier()\n",
    "clf2.fit(X_train2, Y_train2)\n",
    "\n",
    "print(clf2.score(X_train2,Y_train2))\n",
    "print(clf2.score(X_test,Y_test))\n",
    "y = clf2.feature_importances_\n",
    "x = np.linspace(0, len(y)-1, len(y))\n",
    "fig=plt.figure()\n",
    "plt.plot(x,y)"
   ]
  },
  {
   "cell_type": "code",
   "execution_count": null,
   "id": "9a4b8fd0",
   "metadata": {},
   "outputs": [],
   "source": [
    "from xgboost import XGBRegressor\n",
    "\n",
    "model=XGBRegressor(n_estimators = 1000)\n",
    "model.fit(X_train2, Y_train2, eval_set=[(X_test, Y_test)], early_stopping_rounds = 10)"
   ]
  },
  {
   "cell_type": "code",
   "execution_count": null,
   "id": "ad4738ea",
   "metadata": {},
   "outputs": [],
   "source": []
  }
 ],
 "metadata": {
  "kernelspec": {
   "display_name": "Python 3",
   "language": "python",
   "name": "python3"
  },
  "language_info": {
   "codemirror_mode": {
    "name": "ipython",
    "version": 3
   },
   "file_extension": ".py",
   "mimetype": "text/x-python",
   "name": "python",
   "nbconvert_exporter": "python",
   "pygments_lexer": "ipython3",
   "version": "3.8.8"
  },
  "latex_envs": {
   "LaTeX_envs_menu_present": true,
   "autoclose": false,
   "autocomplete": true,
   "bibliofile": "biblio.bib",
   "cite_by": "apalike",
   "current_citInitial": 1,
   "eqLabelWithNumbers": true,
   "eqNumInitial": 1,
   "hotkeys": {
    "equation": "Ctrl-E",
    "itemize": "Ctrl-I"
   },
   "labels_anchors": false,
   "latex_user_defs": false,
   "report_style_numbering": false,
   "user_envs_cfg": false
  }
 },
 "nbformat": 4,
 "nbformat_minor": 5
}
