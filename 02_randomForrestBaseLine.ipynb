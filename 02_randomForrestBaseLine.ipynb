{
 "cells": [
  {
   "cell_type": "code",
   "execution_count": null,
   "id": "e9633564",
   "metadata": {},
   "outputs": [],
   "source": [
    "import numpy as np\n",
    "from matplotlib import pyplot as plt\n",
    "import pandas as pd\n",
    "from sklearn.ensemble import RandomForestClassifier\n",
    "from sklearn.model_selection import train_test_split\n",
    "from sklearn.preprocessing import LabelEncoder"
   ]
  },
  {
   "cell_type": "code",
   "execution_count": null,
   "id": "a41aca2a",
   "metadata": {},
   "outputs": [],
   "source": [
    "trainingData = pd.read_csv(\"train.csv\")"
   ]
  },
  {
   "cell_type": "code",
   "execution_count": null,
   "id": "ad26e3c7",
   "metadata": {},
   "outputs": [],
   "source": [
    "X_train = trainingData.drop(\"SalePrice\", axis = 1)\n",
    "X_train\n",
    "Y_train = trainingData.SalePrice"
   ]
  },
  {
   "cell_type": "code",
   "execution_count": null,
   "id": "9e09c78e",
   "metadata": {},
   "outputs": [],
   "source": [
    "cache = []\n",
    "def encodeEntireData(X_train):\n",
    "    for feature in X_train.columns.values:\n",
    "        label_encoder =LabelEncoder()\n",
    "        X_train[feature]= label_encoder.fit_transform(X_train[feature])\n",
    "        cache.append(label_encoder)\n",
    "\n",
    "    return cache\n",
    "\n"
   ]
  },
  {
   "cell_type": "code",
   "execution_count": null,
   "id": "baff763b",
   "metadata": {},
   "outputs": [],
   "source": [
    "encodeEntireData(X_train)\n",
    "print(X_train)"
   ]
  },
  {
   "cell_type": "code",
   "execution_count": null,
   "id": "b694cc06",
   "metadata": {},
   "outputs": [],
   "source": [
    "clf = RandomForestClassifier()\n",
    "clf.fit(X_train, Y_train)\n",
    "\n",
    "print(clf.score(X_train,Y_train))\n",
    "#print(clf.score(X_test,Y_test))"
   ]
  },
  {
   "cell_type": "code",
   "execution_count": null,
   "id": "26a30b0d",
   "metadata": {},
   "outputs": [],
   "source": [
    "y = clf.feature_importances_\n",
    "x = np.linspace(0, len(y)-1, len(y))\n",
    "fig=plt.figure()\n",
    "plt.plot(x,y)"
   ]
  },
  {
   "cell_type": "code",
   "execution_count": null,
   "id": "ef003771",
   "metadata": {},
   "outputs": [],
   "source": [
    "#find features that are very important\n",
    "def findImportantFeatures(importances, features):\n",
    "    importantFeatures = []\n",
    "    for i in range(len(importances)):\n",
    "        if(importances[i] > 0.02):\n",
    "            importantFeatures.append(features[i])\n",
    "            \n",
    "    return importantFeatures\n",
    "\n",
    "importantF = findImportantFeatures(clf.feature_importances_, X_train.columns.values)\n",
    "print(importantF)"
   ]
  },
  {
   "cell_type": "markdown",
   "id": "829d0173",
   "metadata": {},
   "source": [
    "# use a separted dataset"
   ]
  },
  {
   "cell_type": "code",
   "execution_count": null,
   "id": "f455667c",
   "metadata": {},
   "outputs": [],
   "source": [
    "X_train2, X_test, Y_train2, Y_test = train_test_split(X_train, Y_train, test_size=0.33, random_state=42)\n"
   ]
  },
  {
   "cell_type": "code",
   "execution_count": null,
   "id": "467c3b93",
   "metadata": {},
   "outputs": [],
   "source": [
    "clf2 = RandomForestClassifier()\n",
    "clf2.fit(X_train2, Y_train2)\n",
    "\n",
    "print(clf2.score(X_train2,Y_train2))\n",
    "print(clf2.score(X_test,Y_test))\n",
    "y = clf2.feature_importances_\n",
    "x = np.linspace(0, len(y)-1, len(y))\n",
    "fig=plt.figure()\n",
    "plt.plot(x,y)"
   ]
  },
  {
   "cell_type": "code",
   "execution_count": null,
   "id": "aeeb577d",
   "metadata": {},
   "outputs": [],
   "source": [
    "importantF = findImportantFeatures(clf2.feature_importances_, X_train.columns.values)\n",
    "print(importantF)"
   ]
  },
  {
   "cell_type": "code",
   "execution_count": null,
   "id": "a65158de",
   "metadata": {},
   "outputs": [],
   "source": [
    "X_train"
   ]
  }
 ],
 "metadata": {
  "kernelspec": {
   "display_name": "Python 3",
   "language": "python",
   "name": "python3"
  },
  "language_info": {
   "codemirror_mode": {
    "name": "ipython",
    "version": 3
   },
   "file_extension": ".py",
   "mimetype": "text/x-python",
   "name": "python",
   "nbconvert_exporter": "python",
   "pygments_lexer": "ipython3",
   "version": "3.8.8"
  },
  "latex_envs": {
   "LaTeX_envs_menu_present": true,
   "autoclose": false,
   "autocomplete": true,
   "bibliofile": "biblio.bib",
   "cite_by": "apalike",
   "current_citInitial": 1,
   "eqLabelWithNumbers": true,
   "eqNumInitial": 1,
   "hotkeys": {
    "equation": "Ctrl-E",
    "itemize": "Ctrl-I"
   },
   "labels_anchors": false,
   "latex_user_defs": false,
   "report_style_numbering": false,
   "user_envs_cfg": false
  }
 },
 "nbformat": 4,
 "nbformat_minor": 5
}
